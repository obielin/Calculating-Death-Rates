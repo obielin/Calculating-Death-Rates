{
 "cells": [
  {
   "cell_type": "markdown",
   "metadata": {},
   "source": [
    "# Process Description for Calculating Death Rates\n",
    "\n",
    "\n"
   ]
  },
  {
   "cell_type": "markdown",
   "metadata": {},
   "source": [
    "### This report details the process used to calculate the crude and age-standardized death rates from Chronic Obstructive Pulmonary Disease (COPD) in Uganda and the United States for 2019.\n",
    "Data Acquisition and Preprocessing:\n",
    "-   Population Data:\n",
    "    -   Obtained from the World Population Prospects database.\n",
    "    -\tFiltered to include only data for Uganda and the USA in 2019.\n",
    "    -   Grouped by location and age group to obtain population totals for each age category.\n",
    "\n",
    "-   COPD Death Rates:\n",
    "    -\tObtained from a separate CSV file.\n",
    "    -\tMerged with the population data based on the corresponding age groups.\n",
    "\n",
    "-   WHO Standard Population:\n",
    "    -\tExtracted from a PDF file using the \"tabula\" library.\n",
    "    -\tProcessed to separate the standard population percentages for different regions into separate columns.\n",
    "    -\tMerged with the combined population and death rate data.\n",
    "\n",
    "\n",
    "Death Rate Calculations:\n",
    "-   Crude Death Rate (CDR):\n",
    "    -\tCalculated by dividing the total number of deaths from COPD by the total population and multiplying by 100,000.\n",
    "-   Age-Standardized Death Rate (ASDR):\n",
    "    -\tCalculated by weighting the age-specific death rates by the corresponding WHO standard population and then summing these weighted values.\n",
    "    -\tThe final result is divided by the total WHO standard population and multiplied by 100,000 to express the rate as deaths per 100,000 people.\n",
    "\n",
    "#### - Assumptions made\n",
    "-   The age-specific death rates provided were accurate and represented the entire population of each country. \n",
    "-   The WHO world standard population reasonably represents the global age structure, allowing for a comparatively fair comparison between countries with differing age distributions. \n",
    "\n",
    "#### - Outcome of the Analysis\n",
    "While Uganda's crude death rate (5.8 deaths/100,000) is lower than the USA's (56.9 deaths/100,000), its age-standardized rate (75.3 deaths/100,000) is significantly lower than the USA's (3410.6 deaths/100,000). This indicates potentially differing age-specific mortality patterns."
   ]
  },
  {
   "cell_type": "markdown",
   "metadata": {},
   "source": [
    "## Data Acquisition and Preprocessing"
   ]
  },
  {
   "cell_type": "markdown",
   "metadata": {},
   "source": [
    "### Population Data: population estimates 1915 -2021 for both the United States and Uganda from the UN World Population Prospects (2022)"
   ]
  },
  {
   "cell_type": "markdown",
   "metadata": {},
   "source": [
    "- Load the population estimates data"
   ]
  },
  {
   "cell_type": "code",
   "execution_count": 1,
   "metadata": {},
   "outputs": [
    {
     "name": "stdout",
     "output_type": "stream",
     "text": [
      "   SortOrder  LocID Notes ISO3_code ISO2_code  SDMX_code  LocTypeID  \\\n",
      "0          1    900   NaN       NaN       NaN        1.0          1   \n",
      "1          1    900   NaN       NaN       NaN        1.0          1   \n",
      "2          1    900   NaN       NaN       NaN        1.0          1   \n",
      "3          1    900   NaN       NaN       NaN        1.0          1   \n",
      "4          1    900   NaN       NaN       NaN        1.0          1   \n",
      "\n",
      "  LocTypeName  ParentID Location  VarID Variant  Time  MidPeriod AgeGrp  \\\n",
      "0       World         0    World      2  Medium  1950       1950      0   \n",
      "1       World         0    World      2  Medium  1950       1950      1   \n",
      "2       World         0    World      2  Medium  1950       1950      2   \n",
      "3       World         0    World      2  Medium  1950       1950      3   \n",
      "4       World         0    World      2  Medium  1950       1950      4   \n",
      "\n",
      "   AgeGrpStart  AgeGrpSpan    PopMale  PopFemale   PopTotal  \n",
      "0            0           1  41312.322  39439.289  80751.611  \n",
      "1            1           1  35761.048  34274.347  70035.395  \n",
      "2            2           1  33514.723  32065.083  65579.806  \n",
      "3            3           1  31076.464  29780.727  60857.191  \n",
      "4            4           1  28786.661  27647.057  56433.718  \n"
     ]
    }
   ],
   "source": [
    "#Load the Population estiamates data\n",
    "import pandas as pd\n",
    "\n",
    "#  path to the CSV file\n",
    "csv_file_path = 'C:/Users/obypa/OWiDApplication/WPP2022_Population1JanuaryBySingleAgeSex_Medium_1950-2021.csv'\n",
    "\n",
    "# Read the CSV file\n",
    "df = pd.read_csv(csv_file_path, low_memory=False)\n",
    "\n",
    "# Display the first few rows of the dataframe\n",
    "print(df.head())\n"
   ]
  },
  {
   "cell_type": "markdown",
   "metadata": {},
   "source": [
    "- Filter the Dataset to get the data for the United States of America and Uganda\n",
    "    - The following code filters  the dataset accordingly since the task focuses on specific years 2019 and specific countries the United States and Uganda. "
   ]
  },
  {
   "cell_type": "code",
   "execution_count": 2,
   "metadata": {},
   "outputs": [
    {
     "name": "stdout",
     "output_type": "stream",
     "text": [
      "        SortOrder  LocID Notes ISO3_code ISO2_code  SDMX_code  LocTypeID  \\\n",
      "297849         45    800   NaN       UGA        UG      800.0          4   \n",
      "297850         45    800   NaN       UGA        UG      800.0          4   \n",
      "297851         45    800   NaN       UGA        UG      800.0          4   \n",
      "297852         45    800   NaN       UGA        UG      800.0          4   \n",
      "297853         45    800   NaN       UGA        UG      800.0          4   \n",
      "\n",
      "         LocTypeName  ParentID Location  VarID Variant  Time  MidPeriod  \\\n",
      "297849  Country/Area       910   Uganda      2  Medium  2019       2019   \n",
      "297850  Country/Area       910   Uganda      2  Medium  2019       2019   \n",
      "297851  Country/Area       910   Uganda      2  Medium  2019       2019   \n",
      "297852  Country/Area       910   Uganda      2  Medium  2019       2019   \n",
      "297853  Country/Area       910   Uganda      2  Medium  2019       2019   \n",
      "\n",
      "       AgeGrp  AgeGrpStart  AgeGrpSpan  PopMale  PopFemale  PopTotal  \n",
      "297849      0            0           1  775.823    759.276  1535.099  \n",
      "297850      1            1           1  748.126    733.101  1481.227  \n",
      "297851      2            2           1  724.798    711.052  1435.850  \n",
      "297852      3            3           1  710.579    698.169  1408.748  \n",
      "297853      4            4           1  697.088    686.209  1383.297  \n"
     ]
    }
   ],
   "source": [
    "# Filter the data for the year 2019 and for the United States and Uganda\n",
    "population= df[(df['Time'] == 2019) & (df['Location'].isin(['United States of America', 'Uganda']))]\n",
    "\n",
    "# Display the first few rows of the filtered dataset\n",
    "print(population.head())\n"
   ]
  },
  {
   "cell_type": "markdown",
   "metadata": {},
   "source": [
    "- Filter the data to get the total population "
   ]
  },
  {
   "cell_type": "code",
   "execution_count": 3,
   "metadata": {},
   "outputs": [
    {
     "name": "stdout",
     "output_type": "stream",
     "text": [
      "Uganda Population Summary:\n",
      "    Location AgeGrp  PopTotal\n",
      "0     Uganda      0  1535.099\n",
      "1     Uganda      1  1481.227\n",
      "2     Uganda     10  1218.088\n",
      "3     Uganda   100+     0.085\n",
      "4     Uganda     11  1193.915\n",
      "..       ...    ...       ...\n",
      "96    Uganda     95     0.204\n",
      "97    Uganda     96     0.139\n",
      "98    Uganda     97     0.094\n",
      "99    Uganda     98     0.070\n",
      "100   Uganda     99     0.054\n",
      "\n",
      "[101 rows x 3 columns]\n",
      "\n",
      "USA Population Summary:\n",
      "                     Location AgeGrp  PopTotal\n",
      "0    United States of America      0  3847.417\n",
      "1    United States of America      1  3932.045\n",
      "2    United States of America     10  4390.123\n",
      "3    United States of America   100+    75.878\n",
      "4    United States of America     11  4482.967\n",
      "..                        ...    ...       ...\n",
      "96   United States of America     95   196.333\n",
      "97   United States of America     96   119.838\n",
      "98   United States of America     97    90.328\n",
      "99   United States of America     98    67.270\n",
      "100  United States of America     99    45.762\n",
      "\n",
      "[101 rows x 3 columns]\n"
     ]
    }
   ],
   "source": [
    "# Define a function to filter and summarize population data for a given location\n",
    "def summarize_population_by_location(dataframe, location):\n",
    "    return dataframe[dataframe['Location'] == location].groupby(['Location', 'AgeGrp'])['PopTotal'].sum().reset_index()\n",
    "\n",
    "# Use the function to get the population summaries for Uganda and USA\n",
    "uganda_population_summary = summarize_population_by_location(population, 'Uganda')\n",
    "usa_population_summary = summarize_population_by_location(population, 'United States of America')\n",
    "\n",
    "# Display the summaries\n",
    "print(\"Uganda Population Summary:\")\n",
    "print(uganda_population_summary)\n",
    "\n",
    "print(\"\\nUSA Population Summary:\")\n",
    "print(usa_population_summary)\n"
   ]
  },
  {
   "cell_type": "markdown",
   "metadata": {},
   "source": [
    "- Transform  the raw population data, categorized by individual ages, into a more manageable and organised structure grouped by location and broader age categories.\n",
    "    -   Mapping age groups: Define a function that categorizes individual ages (AgeGrp column) into broader age groups (AgeCategory column)"
   ]
  },
  {
   "cell_type": "code",
   "execution_count": 4,
   "metadata": {},
   "outputs": [],
   "source": [
    "def map_age_to_group(age):\n",
    "    if age == '100+':\n",
    "        return '85+'\n",
    "    age = int(age)  \n",
    "    if age < 5:\n",
    "        return '0-4'\n",
    "    elif age < 10:\n",
    "        return '5-9'\n",
    "    elif age < 15:\n",
    "        return '10-14'\n",
    "    elif age < 20:\n",
    "        return '15-19'\n",
    "    elif age < 25:\n",
    "        return '20-24'\n",
    "    elif age < 30:\n",
    "        return '25-29'\n",
    "    elif age < 35:\n",
    "        return '30-34'\n",
    "    elif age < 40:\n",
    "        return '35-39'\n",
    "    elif age < 45:\n",
    "        return '40-44'\n",
    "    elif age < 50:\n",
    "        return '45-49'\n",
    "    elif age < 55:\n",
    "        return '50-54'\n",
    "    elif age < 60:\n",
    "        return '55-59'\n",
    "    elif age < 65:\n",
    "        return '60-64'\n",
    "    elif age < 70:\n",
    "        return '65-69'\n",
    "    elif age < 75:\n",
    "        return '70-74'\n",
    "    elif age < 80:\n",
    "        return '75-79'\n",
    "    elif age < 85:\n",
    "        return '80-84'\n",
    "    else:\n",
    "        return '85+'"
   ]
  },
  {
   "cell_type": "markdown",
   "metadata": {},
   "source": [
    "-   Grouping and sorting population data o ensure consistent sorting across different locations."
   ]
  },
  {
   "cell_type": "code",
   "execution_count": 5,
   "metadata": {},
   "outputs": [],
   "source": [
    "# Define a custom sort order for age categories\n",
    "age_category_order = ['0-4', '5-9', '10-14', '15-19', '20-24', '25-29', '30-34', '35-39', '40-44', '45-49', '50-54', '55-59', '60-64', '65-69', '70-74', '75-79', '80-84', '85+']\n",
    "# Convert age_category_order to a dict that maps each category to its index for sorting\n",
    "age_category_sort_order = {key: index for index, key in enumerate(age_category_order)}"
   ]
  },
  {
   "cell_type": "code",
   "execution_count": 6,
   "metadata": {},
   "outputs": [
    {
     "name": "stdout",
     "output_type": "stream",
     "text": [
      "Uganda Population Grouped Corrected Order:\n",
      "   Location AgeCategory  PopTotal\n",
      "0    Uganda         0-4  7244.221\n",
      "9    Uganda         5-9  6551.165\n",
      "1    Uganda       10-14  5830.086\n",
      "2    Uganda       15-19  5067.026\n",
      "3    Uganda       20-24  4264.126\n",
      "4    Uganda       25-29  3404.442\n",
      "5    Uganda       30-34  2532.182\n",
      "6    Uganda       35-39  1851.236\n",
      "7    Uganda       40-44  1475.060\n",
      "8    Uganda       45-49  1213.931\n",
      "10   Uganda       50-54   928.466\n",
      "11   Uganda       55-59   670.962\n",
      "12   Uganda       60-64   489.872\n",
      "13   Uganda       65-69   346.978\n",
      "14   Uganda       70-74   187.581\n",
      "15   Uganda       75-79    91.499\n",
      "16   Uganda       80-84    43.954\n",
      "17   Uganda         85+    19.510\n",
      "\n",
      "USA Population Grouped Corrected Order:\n",
      "                    Location AgeCategory   PopTotal\n",
      "0   United States of America         0-4  19960.257\n",
      "9   United States of America         5-9  20732.962\n",
      "1   United States of America       10-14  22052.246\n",
      "2   United States of America       15-19  21839.549\n",
      "3   United States of America       20-24  21896.017\n",
      "4   United States of America       25-29  23475.072\n",
      "5   United States of America       30-34  22665.777\n",
      "6   United States of America       35-39  22209.426\n",
      "7   United States of America       40-44  20510.398\n",
      "8   United States of America       45-49  21391.729\n",
      "10  United States of America       50-54  21431.081\n",
      "11  United States of America       55-59  22358.286\n",
      "12  United States of America       60-64  20792.605\n",
      "13  United States of America       65-69  17053.823\n",
      "14  United States of America       70-74  13482.850\n",
      "15  United States of America       75-79   9122.278\n",
      "16  United States of America       80-84   6058.715\n",
      "17  United States of America         85+   6218.032\n"
     ]
    }
   ],
   "source": [
    "def process_population_data(df):\n",
    "    # Map ages to age groups\n",
    "    df['AgeCategory'] = df['AgeGrp'].apply(map_age_to_group)\n",
    "    \n",
    "    # Sum population totals by Location and AgeCategory\n",
    "    grouped_df = df.groupby(['Location', 'AgeCategory'], as_index=False)['PopTotal'].sum()\n",
    "    \n",
    "    # Add a sorting key based on the custom order\n",
    "    grouped_df['SortKey'] = grouped_df['AgeCategory'].map(age_category_sort_order)\n",
    "    \n",
    "    # Sort by this key and drop it\n",
    "    sorted_grouped_df = grouped_df.sort_values(['Location', 'SortKey']).drop(columns=['SortKey'])\n",
    "    \n",
    "    return sorted_grouped_df\n",
    "\n",
    "# Process the dataframes \n",
    "uganda_pop_data = process_population_data(uganda_population_summary)\n",
    "usa_pop_data = process_population_data(usa_population_summary)\n",
    "\n",
    "# Display the corrected result\n",
    "print(\"Uganda Population Grouped Corrected Order:\")\n",
    "print(uganda_pop_data)\n",
    "print(\"\\nUSA Population Grouped Corrected Order:\")\n",
    "print(usa_pop_data)"
   ]
  },
  {
   "cell_type": "markdown",
   "metadata": {},
   "source": [
    "### Load WHO Standard Population — Table 1 in 'Ahmad OB, Boschi-Pinto C, Lopez AD, Murray CJ, Lozano R, Inoue M (2001). Age standardization of rates: a new WHO standard."
   ]
  },
  {
   "cell_type": "markdown",
   "metadata": {},
   "source": [
    "- Extract the WHO standard population data from a PDF, clean and transform it into a usable format for further analysis."
   ]
  },
  {
   "cell_type": "code",
   "execution_count": 7,
   "metadata": {},
   "outputs": [
    {
     "name": "stderr",
     "output_type": "stream",
     "text": [
      "Error importing jpype dependencies. Fallback to subprocess.\n",
      "No module named 'jpype'\n"
     ]
    },
    {
     "name": "stdout",
     "output_type": "stream",
     "text": [
      "                                           Unnamed: 0  \\\n",
      "0                                           Age group   \n",
      "1                                                 0-4   \n",
      "2                                                 5-9   \n",
      "3                                               10-14   \n",
      "4                                               15-19   \n",
      "5                                               20-24   \n",
      "6                                               25-29   \n",
      "7                                               30-34   \n",
      "8                                               35-39   \n",
      "9                                               40-44   \n",
      "10                                              45-49   \n",
      "11                                              50-54   \n",
      "12                                              55-59   \n",
      "13                                              60-64   \n",
      "14                                              65-69   \n",
      "15                                              70-74   \n",
      "16                                              75-79   \n",
      "17                                              80-84   \n",
      "18                                                85+   \n",
      "19                                              Total   \n",
      "20  * For purposes of comparison, the WHO Standard...   \n",
      "21                                                NaN   \n",
      "\n",
      "   Table 1. Standard Population Distribution (percent)  \n",
      "0   Segi (“world”) standard  Scandinavian (“Europe...   \n",
      "1                                     12.00 8.00 8.86   \n",
      "2                                     10.00 7.00 8.69   \n",
      "3                                      9.00 7.00 8.60   \n",
      "4                                      9.00 7.00 8.47   \n",
      "5                                      8.00 7.00 8.22   \n",
      "6                                      8.00 7.00 7.93   \n",
      "7                                      6.00 7.00 7.61   \n",
      "8                                      6.00 7.00 7.15   \n",
      "9                                      6.00 7.00 6.59   \n",
      "10                                     6.00 7.00 6.04   \n",
      "11                                     5.00 7.00 5.37   \n",
      "12                                     4.00 6.00 4.55   \n",
      "13                                     4.00 5.00 3.72   \n",
      "14                                     3.00 4.00 2.96   \n",
      "15                                     2.00 3.00 2.21   \n",
      "16                                     1.00 2.00 1.52   \n",
      "17                                     0.50 1.00 0.91   \n",
      "18                                     0.50 1.00 0.63   \n",
      "19                               100.00 100.00 100.00   \n",
      "20                                                NaN   \n",
      "21                                          and 100+.   \n",
      "  Table 2. Trend in Age-adjusted Circulatory Disease Mortality Rates Based on the Segi, Scandinavian and WHO\n",
      "0  World Standard Populations and the Cumulative ...                                                        \n",
      "1                                  Rates per 100,000                                                        \n",
      "2  Standard 1970 1975 1980 1985 1990 1995 % Chang...                                                        \n",
      "3     Segi 459.5 399.0 350.3 305.8 256.8 232.3 -49.4                                                        \n",
      "4  WHO World 550.9 482.2 426.7 373.7 315.0 285.4 ...                                                        \n",
      "5  Scandinavian 720.1 630.4 557.8 488.4 411.6 372...                                                        \n",
      "6                                                NaN                                                        \n",
      "7  Percent Difference in Rates Relative to WHO Wo...                                                        \n",
      "8                 Segi -20% -21% -22% -22% -23% -23%                                                        \n",
      "9               Scandinavian 23% 24% 24% 23% 23% 23%                                                        \n"
     ]
    },
    {
     "name": "stderr",
     "output_type": "stream",
     "text": [
      "c:\\Users\\obypa\\OWiDApplication\\venv\\Lib\\site-packages\\tabula\\io.py:1045: FutureWarning: errors='ignore' is deprecated and will raise in a future version. Use to_numeric without passing `errors` and catch exceptions explicitly instead\n",
      "  df[c] = pd.to_numeric(df[c], errors=\"ignore\")\n"
     ]
    }
   ],
   "source": [
    "import tabula\n",
    "\n",
    "# Path to the PDF file\n",
    "file_path = \"C:/Users/obypa/OWiDApplication/AgeStandardizationofRates-ANewWHOStandard.pdf\"\n",
    "\n",
    "# extract tables into a list of DataFrame objects\n",
    "dfs = tabula.read_pdf(file_path, pages=\"11\", multiple_tables=True)\n",
    "\n",
    "# print the list of tables found in the PDF, each one as a separate DataFrame\n",
    "for table in dfs:\n",
    "    print(table)\n"
   ]
  },
  {
   "cell_type": "markdown",
   "metadata": {},
   "source": [
    "- Select Desired Table"
   ]
  },
  {
   "cell_type": "code",
   "execution_count": 8,
   "metadata": {},
   "outputs": [
    {
     "name": "stdout",
     "output_type": "stream",
     "text": [
      "  Unnamed: 0 Table 1. Standard Population Distribution (percent)\n",
      "0  Age group  Segi (“world”) standard  Scandinavian (“Europe... \n",
      "1        0-4                                    12.00 8.00 8.86 \n",
      "2        5-9                                    10.00 7.00 8.69 \n",
      "3      10-14                                     9.00 7.00 8.60 \n",
      "4      15-19                                     9.00 7.00 8.47 \n"
     ]
    }
   ],
   "source": [
    "# The table needed is the first one on the page\n",
    "data = dfs[0] if dfs else None\n",
    "print(data.head())"
   ]
  },
  {
   "cell_type": "markdown",
   "metadata": {},
   "source": [
    "- Preprocess Data by removing the first row (header) from data as it might hinder further processing."
   ]
  },
  {
   "cell_type": "code",
   "execution_count": 9,
   "metadata": {},
   "outputs": [
    {
     "name": "stdout",
     "output_type": "stream",
     "text": [
      "  Age group Segi Standard Scandinavian Standard WHO World Standard\n",
      "0       0-4         12.00                  8.00               8.86\n",
      "1       5-9         10.00                  7.00               8.69\n",
      "2     10-14          9.00                  7.00               8.60\n",
      "3     15-19          9.00                  7.00               8.47\n",
      "4     20-24          8.00                  7.00               8.22\n"
     ]
    }
   ],
   "source": [
    "# First, we remove the header row since it complicates splitting.\n",
    "whostandard_pop =data.iloc[1:].copy()\n",
    "\n",
    "# Splitting the 'Table 1. Standard Population Distribution (percent)' column into three new columns\n",
    "whostandard_pop[['Segi Standard', 'Scandinavian Standard', 'WHO World Standard']] = whostandard_pop['Table 1. Standard Population Distribution (percent)'].str.split(expand=True)\n",
    "whostandard_pop['Age group'] = whostandard_pop['Unnamed: 0']\n",
    "\n",
    "# Drop the original combined column and the 'Unnamed: 0' column as they are no longer needed\n",
    "whostandard_pop = whostandard_pop.drop(columns=['Table 1. Standard Population Distribution (percent)', 'Unnamed: 0'])\n",
    "\n",
    "# Reorder the DataFrame to have 'age_group' as the first column\n",
    "whostandard_pop = whostandard_pop[['Age group', 'Segi Standard', 'Scandinavian Standard', 'WHO World Standard']]\n",
    "\n",
    "# Reset index\n",
    "whostandard_pop.reset_index(drop=True, inplace=True)\n",
    "\n",
    "# Remove the last two rows which are not needed \n",
    "whostandard_pop = whostandard_pop.iloc[:-2]\n",
    "\n",
    "print(whostandard_pop.head())"
   ]
  },
  {
   "cell_type": "markdown",
   "metadata": {},
   "source": [
    "- Convert the \"WHO World Standard\" column to numerical data type (float)"
   ]
  },
  {
   "cell_type": "code",
   "execution_count": 10,
   "metadata": {},
   "outputs": [],
   "source": [
    "# Convert data to DataFrame\n",
    "whostandard_pop[\"WHO World Standard\"] = whostandard_pop[\"WHO World Standard\"].astype(float)"
   ]
  },
  {
   "cell_type": "markdown",
   "metadata": {},
   "source": [
    "### Load Table of age-specific death rates of COPD:"
   ]
  },
  {
   "cell_type": "markdown",
   "metadata": {},
   "source": [
    "-   Load the COPD death rate data and rename columns within various DataFrames to enhance clarity for further analysis."
   ]
  },
  {
   "cell_type": "code",
   "execution_count": 11,
   "metadata": {},
   "outputs": [
    {
     "name": "stdout",
     "output_type": "stream",
     "text": [
      "  Age group (years)  Death rate, United States, 2019  Death rate, Uganda, 2019\n",
      "0               0-4                             0.04                      0.40\n",
      "1               5-9                             0.02                      0.17\n",
      "2             10-14                             0.02                      0.07\n",
      "3             15-19                             0.02                      0.23\n",
      "4             20-24                             0.06                      0.38\n"
     ]
    }
   ],
   "source": [
    "#  path to the CSV file\n",
    "copd_file_path = 'C:/Users/obypa/OWiDApplication/age specific death rates of COPD.csv'\n",
    "# Read the CSV file\n",
    "copd_rates = pd.read_csv(copd_file_path, low_memory=False)\n",
    "\n",
    "# Display the first few rows of the dataframe\n",
    "print(copd_rates.head())"
   ]
  },
  {
   "cell_type": "markdown",
   "metadata": {},
   "source": [
    "-   Rename the columns in the DataFrames to a more Python format"
   ]
  },
  {
   "cell_type": "code",
   "execution_count": 12,
   "metadata": {},
   "outputs": [],
   "source": [
    "copd_rates.columns = ['age_group', 'death_rate_us_2019', 'death_rate_uganda_2019']\n",
    "usa_pop_data.columns = ['location', 'age_group', 'population_total']\n",
    "uganda_pop_data.columns = ['location', 'age_group', 'population_total']\n",
    "whostandard_pop.columns = ['age_group', 'segi_standard', 'scandinavian_standard', 'who_world_standard']"
   ]
  },
  {
   "cell_type": "markdown",
   "metadata": {},
   "source": [
    "### Merge the three tables to get a single data frame for the analysis"
   ]
  },
  {
   "cell_type": "markdown",
   "metadata": {},
   "source": [
    "- Merge the necessary data for each country"
   ]
  },
  {
   "cell_type": "code",
   "execution_count": 13,
   "metadata": {},
   "outputs": [],
   "source": [
    "# Merge population data with COPD death rates and WHO standard population for the USA\n",
    "usa_merged_df = pd.merge(pd.merge(usa_pop_data, copd_rates.drop(columns=\"death_rate_uganda_2019\"), on=\"age_group\"), whostandard_pop, on=\"age_group\")\n",
    "\n",
    "# Merge population data with COPD death rates and WHO standard population for Uganda\n",
    "uganda_merged_df = pd.merge(pd.merge(uganda_pop_data, copd_rates.drop(columns=\"death_rate_us_2019\"), on=\"age_group\"), whostandard_pop, on=\"age_group\")\n"
   ]
  },
  {
   "cell_type": "markdown",
   "metadata": {},
   "source": [
    "### Calculate the number of deaths"
   ]
  },
  {
   "cell_type": "markdown",
   "metadata": {},
   "source": [
    "- Based on death rates and population totals, get the number of deaths"
   ]
  },
  {
   "cell_type": "code",
   "execution_count": 14,
   "metadata": {},
   "outputs": [],
   "source": [
    "# calculate the number of age specific deaths for the uganda population\n",
    "uganda_merged_df['number_of_deaths'] = uganda_merged_df.apply(\n",
    "    lambda row: round(row['death_rate_uganda_2019'] * row['population_total'], 2), axis=1\n",
    ")\n",
    "\n",
    "# calculate the number of age specific deaths for the uganda population\n",
    "usa_merged_df['number_of_deaths'] = usa_merged_df.apply(\n",
    "    lambda row: round(row['death_rate_us_2019'] * row['population_total'], 2), axis=1\n",
    ")"
   ]
  },
  {
   "cell_type": "markdown",
   "metadata": {},
   "source": [
    "## Death Rate Calculations"
   ]
  },
  {
   "cell_type": "markdown",
   "metadata": {},
   "source": [
    "- compute both crude and age-standardized death rates "
   ]
  },
  {
   "cell_type": "code",
   "execution_count": 15,
   "metadata": {},
   "outputs": [
    {
     "name": "stdout",
     "output_type": "stream",
     "text": [
      "Uganda:\n",
      "Crude death rate: 5.8 deaths per 100,000\n",
      "Age-standardized death rate: 75.3 deaths per 100,000\n",
      "\n",
      "USA:\n",
      "Crude death rate: 56.9 deaths per 100,000\n",
      "Age-standardized death rate: 3410.6 deaths per 100,000\n"
     ]
    }
   ],
   "source": [
    "\n",
    "\n",
    "def calculate_death_rates(df, death_rate_column):\n",
    "    \"\"\"\n",
    "    Calculates both crude and age-standardized death rates for a given dataframe.\n",
    "  \n",
    "    Args:\n",
    "        df (pandas.DataFrame): The dataframe containing population and death rate data.\n",
    "        death_rate_column (str): The name of the column containing death rates for the specific country.\n",
    "  \n",
    "    Returns:\n",
    "        dict: A dictionary containing the crude death rate and age-standardized death rate.\n",
    "    \"\"\"\n",
    "    # Calculate crude death rate\n",
    "    total_deaths = df['number_of_deaths'].sum()\n",
    "    total_population = df['population_total'].sum()\n",
    "    crude_death_rate = (total_deaths / total_population) \n",
    "  \n",
    "    # Calculate age-standardized death rate\n",
    "    df['standardized_deaths'] = df[death_rate_column] / 100000 * df['population_total'] * df['who_world_standard'] / 100\n",
    "    age_standardized_rate = df['standardized_deaths'].sum() / df['who_world_standard'].sum() * 100000\n",
    "  \n",
    "    return {\n",
    "        \"crude_death_rate\": round(crude_death_rate, 1),\n",
    "        \"age_standardized_death_rate\": round(age_standardized_rate, 1)\n",
    "    }\n",
    "\n",
    "# Example usage:\n",
    "uganda_death_rates = calculate_death_rates(uganda_merged_df.copy(), 'death_rate_uganda_2019')\n",
    "usa_death_rates = calculate_death_rates(usa_merged_df.copy(), 'death_rate_us_2019')\n",
    "\n",
    "# Print results\n",
    "print(\"Uganda:\")\n",
    "print(f\"Crude death rate: {uganda_death_rates['crude_death_rate']:.1f} deaths per 100,000\")\n",
    "print(f\"Age-standardized death rate: {uganda_death_rates['age_standardized_death_rate']:.1f} deaths per 100,000\")\n",
    "\n",
    "print(\"\\nUSA:\")\n",
    "print(f\"Crude death rate: {usa_death_rates['crude_death_rate']:.1f} deaths per 100,000\")\n",
    "print(f\"Age-standardized death rate: {usa_death_rates['age_standardized_death_rate']:.1f} deaths per 100,000\")\n"
   ]
  }
 ],
 "metadata": {
  "kernelspec": {
   "display_name": "venv",
   "language": "python",
   "name": "python3"
  },
  "language_info": {
   "codemirror_mode": {
    "name": "ipython",
    "version": 3
   },
   "file_extension": ".py",
   "mimetype": "text/x-python",
   "name": "python",
   "nbconvert_exporter": "python",
   "pygments_lexer": "ipython3",
   "version": "3.11.5"
  }
 },
 "nbformat": 4,
 "nbformat_minor": 2
}
